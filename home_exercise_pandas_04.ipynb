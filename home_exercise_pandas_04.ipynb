{
 "cells": [
  {
   "cell_type": "code",
   "execution_count": 63,
   "id": "3bf3b234-bfa5-450b-8831-386c2be345d5",
   "metadata": {},
   "outputs": [],
   "source": [
    "import numpy as np\n",
    "import pandas as pd"
   ]
  },
  {
   "cell_type": "code",
   "execution_count": 91,
   "id": "74631c08-b293-4838-a9b8-c9f7b3016de2",
   "metadata": {},
   "outputs": [
    {
     "name": "stdout",
     "output_type": "stream",
     "text": [
      "\n",
      "1.a\n",
      "0                          Planet Coaster 2\n",
      "1                Mario & Luigi: Brothership\n",
      "2                               Slitterhead\n",
      "3               The Rise of the Golden Idol\n",
      "4               Dragon Quest 3 HD-2D Remake\n",
      "5           Microsoft Flight Simulator 2024\n",
      "6             Stalker 2: Heart of Chornobyl\n",
      "7                   Fantasian Neo Dimension\n",
      "8                             Marvel Rivals\n",
      "9        Indiana Jones and the Great Circle\n",
      "10            Blood Line: A Rebel Moon Game\n",
      "11    The Legend of Zelda: Echoes of Wisdom\n",
      "dtype: object\n",
      "\n",
      "1.b\n",
      "The Rise of the Golden Idol\n",
      "\n",
      "1.d\n",
      "Planet Coaster 2                         224.96\n",
      "Mario & Luigi: Brothership               187.46\n",
      "Slitterhead                              149.96\n",
      "The Rise of the Golden Idol              131.21\n",
      "Dragon Quest 3 HD-2D Remake              187.46\n",
      "Microsoft Flight Simulator 2024          262.46\n",
      "Stalker 2: Heart of Chornobyl            224.96\n",
      "Fantasian Neo Dimension                  168.71\n",
      "Marvel Rivals                            149.96\n",
      "Indiana Jones and the Great Circle       206.21\n",
      "Blood Line: A Rebel Moon Game              0.00\n",
      "The Legend of Zelda: Echoes of Wisdom    262.46\n",
      "dtype: float64\n",
      "\n",
      "1.e\n",
      "149.96\n",
      "\n",
      "1.f\n",
      "['Planet Coaster 2', 'Mario & Luigi: Brothership', 'Slitterhead', 'The Rise of the Golden Idol', 'Dragon Quest 3 HD-2D Remake', 'Microsoft Flight Simulator 2024', 'Stalker 2: Heart of Chornobyl', 'Fantasian Neo Dimension', 'Marvel Rivals', 'Indiana Jones and the Great Circle', 'Blood Line: A Rebel Moon Game', 'The Legend of Zelda: Echoes of Wisdom']\n",
      "\n",
      "1.g\n",
      "<class 'pandas.core.indexes.base.Index'>\n",
      "\n",
      "1.h\n",
      "Planet Coaster 2                      224.96\n",
      "Microsoft Flight Simulator 2024       262.46\n",
      "Indiana Jones and the Great Circle    206.21\n",
      "dtype: float64\n",
      "\n",
      "1.i\n",
      "0     224.96\n",
      "1     187.46\n",
      "2     149.96\n",
      "3     131.21\n",
      "4     187.46\n",
      "5     262.46\n",
      "6     224.96\n",
      "7     168.71\n",
      "8     149.96\n",
      "9     206.21\n",
      "10      0.00\n",
      "11    262.46\n",
      "dtype: float64\n"
     ]
    }
   ],
   "source": [
    "# 1.a\n",
    "pd_series = pd.Series([\"Planet Coaster 2\", \"Mario & Luigi: Brothership\", \"Slitterhead\", \"The Rise of the Golden Idol\", \n",
    "                            \"Dragon Quest 3 HD-2D Remake\", \"Microsoft Flight Simulator 2024\", \"Stalker 2: Heart of Chornobyl\", \n",
    "                            \"Fantasian Neo Dimension\", \"Marvel Rivals\", \"Indiana Jones and the Great Circle\", \"Blood Line: A Rebel Moon Game\",\n",
    "                            \"The Legend of Zelda: Echoes of Wisdom\"])\n",
    "print('\\n1.a')\n",
    "print(pd_series)\n",
    "\n",
    "# b\n",
    "print('\\n1.b')\n",
    "print(pd_series[3])\n",
    "\n",
    "# c\n",
    "label_index = list(pd_series)\n",
    "data = [224.96, 187.46, 149.96, 131.21, 187.46, 262.46, 224.96, 168.71, 149.96, 206.21, 0.0, 262.46]\n",
    "pd_game_series = pd.Series(data=data, index=label_index)\n",
    "\n",
    "# d\n",
    "print('\\n1.d')\n",
    "print(pd_game_series)\n",
    "\n",
    "# e\n",
    "print('\\n1.e')\n",
    "print(pd_game_series['Marvel Rivals'])\n",
    "\n",
    "# f\n",
    "print('\\n1.f')\n",
    "print(list(pd_game_series.keys()))\n",
    "\n",
    "# g\n",
    "print('\\n1.g')\n",
    "print(type(pd_game_series.keys()))\n",
    "\n",
    "# h\n",
    "print('\\n1.h')\n",
    "dict = {'Planet Coaster 2': 224.96, 'Microsoft Flight Simulator 2024': 262.46, 'Indiana Jones and the Great Circle' : 206.21}\n",
    "pd_series_dict = pd.Series(dict)\n",
    "print(pd_series_dict)\n",
    "\n",
    "# i\n",
    "print('\\n1.i')\n",
    "pd_game_series.reset_index(drop=True, inplace=True)\n",
    "print(pd_game_series)"
   ]
  },
  {
   "cell_type": "code",
   "execution_count": 93,
   "id": "be6455bd-1538-4428-96a3-cf7e83fb4a03",
   "metadata": {},
   "outputs": [],
   "source": [
    "# 2\n",
    "# The difference between the + sign and the add function when adding one series to another is as follows:\n",
    "# plus sign - if a key member name in one series does not match the key member name in the other series, the value of this key member will be NaN.\n",
    "# add function - allows you to add a parameter (fill_value) with a value that a key member value will be received if the key member name in one series does not match the key member name in the other series."
   ]
  },
  {
   "cell_type": "code",
   "execution_count": 97,
   "id": "8bec7809-d8f0-4d10-b403-d1b337146264",
   "metadata": {},
   "outputs": [
    {
     "name": "stdout",
     "output_type": "stream",
     "text": [
      "Mario & Luigi: Brothership               187.46\n",
      "Marvel Rivals                             69.96\n",
      "Planet Coaster 2                         174.96\n",
      "Slitterhead                              149.96\n",
      "The Legend of Zelda: Echoes of Wisdom    247.46\n",
      "dtype: float64\n"
     ]
    }
   ],
   "source": [
    "# 3\n",
    "game_prices_dict = {\"Planet Coaster 2\": 224.96, \"Mario & Luigi: Brothership\": 187.46, \"Slitterhead\": 149.96, \"Marvel Rivals\": 149.96, \n",
    "             \"The Legend of Zelda: Echoes of Wisdom\": 262.46}\n",
    "game_prices = pd.Series(game_prices_dict)\n",
    "\n",
    "game_discounts_dict = {\"Planet Coaster 2\": -50, \"Marvel Rivals\": -80, \"The Legend of Zelda: Echoes of Wisdom\": -15}\n",
    "game_discounts = pd.Series(game_discounts_dict)\n",
    "\n",
    "game_prices_after_discount = game_prices.add(game_discounts, fill_value=0)\n",
    "print(game_prices_after_discount)"
   ]
  },
  {
   "cell_type": "code",
   "execution_count": null,
   "id": "8e4865bc-5eb9-48f4-89ef-986480d7a4d0",
   "metadata": {},
   "outputs": [],
   "source": []
  }
 ],
 "metadata": {
  "kernelspec": {
   "display_name": "Python 3 (ipykernel)",
   "language": "python",
   "name": "python3"
  },
  "language_info": {
   "codemirror_mode": {
    "name": "ipython",
    "version": 3
   },
   "file_extension": ".py",
   "mimetype": "text/x-python",
   "name": "python",
   "nbconvert_exporter": "python",
   "pygments_lexer": "ipython3",
   "version": "3.12.7"
  }
 },
 "nbformat": 4,
 "nbformat_minor": 5
}
